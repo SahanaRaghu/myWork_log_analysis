{
  "nbformat": 4,
  "nbformat_minor": 0,
  "metadata": {
    "colab": {
      "name": "Analyse_myWorkLogs.ipynb",
      "version": "0.3.2",
      "provenance": [],
      "collapsed_sections": [],
      "include_colab_link": true
    },
    "kernelspec": {
      "name": "python3",
      "display_name": "Python 3"
    }
  },
  "cells": [
    {
      "cell_type": "markdown",
      "metadata": {
        "id": "view-in-github",
        "colab_type": "text"
      },
      "source": [
        "<a href=\"https://colab.research.google.com/github/SahanaRaghu/myWork_log_analysis/blob/master/Analyse_myWorkLogs.ipynb\" target=\"_parent\"><img src=\"https://colab.research.google.com/assets/colab-badge.svg\" alt=\"Open In Colab\"/></a>"
      ]
    },
    {
      "metadata": {
        "id": "K3dTdKg8i1d1",
        "colab_type": "text"
      },
      "cell_type": "markdown",
      "source": [
        "### Download log file from Google drive & load to csv"
      ]
    },
    {
      "metadata": {
        "id": "9XDFoQKeQ39b",
        "colab_type": "code",
        "colab": {}
      },
      "cell_type": "code",
      "source": [
        "!pip install -U -q PyDrive\n",
        "from pydrive.auth import GoogleAuth\n",
        "from pydrive.drive import GoogleDrive\n",
        "from google.colab import auth\n",
        "from oauth2client.client import GoogleCredentials\n",
        "# Authenticate and create the PyDrive client.\n",
        "auth.authenticate_user()\n",
        "gauth = GoogleAuth()\n",
        "gauth.credentials = GoogleCredentials.get_application_default()\n",
        "drive = GoogleDrive(gauth)"
      ],
      "execution_count": 0,
      "outputs": []
    },
    {
      "metadata": {
        "id": "V3NunNx9SBBv",
        "colab_type": "code",
        "outputId": "b1958636-1721-4edd-a91b-cf6efcf3c983",
        "colab": {
          "base_uri": "https://localhost:8080/",
          "height": 34
        }
      },
      "cell_type": "code",
      "source": [
        "listed = drive.ListFile({'q': \"title contains 'myWork_logs_url_null.json' and '1Ea4CQzbR1PTeM0aMDEknCVa2xpagiBRf' in parents\"}).GetList()\n",
        "for file in listed:\n",
        "  print('title {}, id {}'.format(file['title'], file['id']))"
      ],
      "execution_count": 75,
      "outputs": [
        {
          "output_type": "stream",
          "text": [
            "title myWork_logs_url_null.json, id 1U_gToZS6AnAv-qa40ordZp2OkuvBzGqx\n"
          ],
          "name": "stdout"
        }
      ]
    },
    {
      "metadata": {
        "id": "z5kcnG22SZg0",
        "colab_type": "code",
        "colab": {}
      },
      "cell_type": "code",
      "source": [
        "import os\n",
        "import pandas as pd\n",
        "\n",
        "download_path = os.path.expanduser('~/data_logs')\n",
        "try:\n",
        "  os.makedirs(download_path)\n",
        "except FileExistsError:\n",
        "  pass"
      ],
      "execution_count": 0,
      "outputs": []
    },
    {
      "metadata": {
        "id": "oB8Yj1oYSnhg",
        "colab_type": "code",
        "colab": {}
      },
      "cell_type": "code",
      "source": [
        "output_file = os.path.join(download_path, 'logs.json')\n",
        "temp_file = drive.CreateFile({'id': '1U_gToZS6AnAv-qa40ordZp2OkuvBzGqx'})\n",
        "temp_file.GetContentFile(output_file)"
      ],
      "execution_count": 0,
      "outputs": []
    },
    {
      "metadata": {
        "id": "Jt133zOahqT1",
        "colab_type": "code",
        "outputId": "fd01e28b-0546-45a0-db6d-215207c6c4b3",
        "colab": {
          "base_uri": "https://localhost:8080/",
          "height": 34
        }
      },
      "cell_type": "code",
      "source": [
        "output_file"
      ],
      "execution_count": 78,
      "outputs": [
        {
          "output_type": "execute_result",
          "data": {
            "text/plain": [
              "'/root/data_logs/logs.json'"
            ]
          },
          "metadata": {
            "tags": []
          },
          "execution_count": 78
        }
      ]
    },
    {
      "metadata": {
        "id": "uncYgv69uQSn",
        "colab_type": "code",
        "colab": {}
      },
      "cell_type": "code",
      "source": [
        "import json\n",
        "from pprint import pprint\n",
        "\n",
        "with open(output_file) as f:\n",
        "    json_data = json.load(f)"
      ],
      "execution_count": 0,
      "outputs": []
    },
    {
      "metadata": {
        "id": "UrXKS6FlD8i5",
        "colab_type": "code",
        "colab": {}
      },
      "cell_type": "code",
      "source": [
        "good_cols = [\n",
        " '@timestamp',\n",
        " '@version',\n",
        " 'acorn_app',\n",
        " 'acorn_appVersion',\n",
        " 'acorn_deviceTime_orApp',\n",
        " 'acorn_deviceid',\n",
        " 'acorn_logapp',\n",
        " 'acorn_message',\n",
        " 'acorn_pid',\n",
        " 'acorn_store',\n",
        " 'acorn_thread',\n",
        " 'acorn_timestamp',\n",
        " 'acorn_type',\n",
        " 'beat',\n",
        " 'code',\n",
        " 'host',\n",
        " 'input_type',\n",
        " 'message',\n",
        " 'offset',\n",
        " 'source',\n",
        " 'tags',\n",
        " 'type'\n",
        "]"
      ],
      "execution_count": 0,
      "outputs": []
    },
    {
      "metadata": {
        "id": "0G8jw5zL_qOn",
        "colab_type": "code",
        "colab": {}
      },
      "cell_type": "code",
      "source": [
        "data=[]\n",
        "for each_data in json_data['hits']:\n",
        "  selected_row = []\n",
        "  for item in good_cols:\n",
        "    selected_row.append(each_data['_source'][item])\n",
        "  data.append(selected_row)\n"
      ],
      "execution_count": 0,
      "outputs": []
    },
    {
      "metadata": {
        "id": "CAQ126IuDDYB",
        "colab_type": "code",
        "colab": {}
      },
      "cell_type": "code",
      "source": [
        "import pandas as pd\n",
        "\n",
        "data = pd.DataFrame(data, columns=good_cols)"
      ],
      "execution_count": 0,
      "outputs": []
    },
    {
      "metadata": {
        "id": "o7eLH4UbHcCO",
        "colab_type": "text"
      },
      "cell_type": "markdown",
      "source": [
        "### Feature Engeneering"
      ]
    },
    {
      "metadata": {
        "id": "hmn2WRavi0pP",
        "colab_type": "code",
        "colab": {}
      },
      "cell_type": "code",
      "source": [
        "data_backup = data.copy()"
      ],
      "execution_count": 0,
      "outputs": []
    },
    {
      "metadata": {
        "id": "7p4ssYfgOwsI",
        "colab_type": "code",
        "colab": {}
      },
      "cell_type": "code",
      "source": [
        "data = data.drop(['@version', 'acorn_logapp', 'acorn_type', 'input_type', 'source', 'type', 'acorn_pid', 'acorn_thread', 'code', 'host', 'acorn_timestamp'],axis=1)"
      ],
      "execution_count": 0,
      "outputs": []
    },
    {
      "metadata": {
        "id": "G8CHfP5-lWZd",
        "colab_type": "code",
        "colab": {
          "base_uri": "https://localhost:8080/",
          "height": 85
        },
        "outputId": "9883bd0b-22e5-40ce-a8cf-0e576d0862da"
      },
      "cell_type": "code",
      "source": [
        "data.columns"
      ],
      "execution_count": 86,
      "outputs": [
        {
          "output_type": "execute_result",
          "data": {
            "text/plain": [
              "Index(['@timestamp', 'acorn_app', 'acorn_appVersion', 'acorn_deviceTime_orApp',\n",
              "       'acorn_deviceid', 'acorn_message', 'acorn_store', 'acorn_timestamp',\n",
              "       'beat', 'message', 'offset', 'tags'],\n",
              "      dtype='object')"
            ]
          },
          "metadata": {
            "tags": []
          },
          "execution_count": 86
        }
      ]
    },
    {
      "metadata": {
        "id": "uqS8efQGlyDm",
        "colab_type": "code",
        "colab": {}
      },
      "cell_type": "code",
      "source": [
        "data.sort_values(by=['acorn_deviceTime_orApp'])\n"
      ],
      "execution_count": 0,
      "outputs": []
    },
    {
      "metadata": {
        "id": "ULpx3t0fK3FT",
        "colab_type": "code",
        "colab": {
          "base_uri": "https://localhost:8080/",
          "height": 479
        },
        "outputId": "1da45b9a-c886-4d79-d363-a6bd15902b2c"
      },
      "cell_type": "code",
      "source": [
        "data.head()"
      ],
      "execution_count": 88,
      "outputs": [
        {
          "output_type": "execute_result",
          "data": {
            "text/html": [
              "<div>\n",
              "<style scoped>\n",
              "    .dataframe tbody tr th:only-of-type {\n",
              "        vertical-align: middle;\n",
              "    }\n",
              "\n",
              "    .dataframe tbody tr th {\n",
              "        vertical-align: top;\n",
              "    }\n",
              "\n",
              "    .dataframe thead th {\n",
              "        text-align: right;\n",
              "    }\n",
              "</style>\n",
              "<table border=\"1\" class=\"dataframe\">\n",
              "  <thead>\n",
              "    <tr style=\"text-align: right;\">\n",
              "      <th></th>\n",
              "      <th>@timestamp</th>\n",
              "      <th>acorn_app</th>\n",
              "      <th>acorn_appVersion</th>\n",
              "      <th>acorn_deviceTime_orApp</th>\n",
              "      <th>acorn_deviceid</th>\n",
              "      <th>acorn_message</th>\n",
              "      <th>acorn_store</th>\n",
              "      <th>acorn_timestamp</th>\n",
              "      <th>beat</th>\n",
              "      <th>message</th>\n",
              "      <th>offset</th>\n",
              "      <th>tags</th>\n",
              "    </tr>\n",
              "  </thead>\n",
              "  <tbody>\n",
              "    <tr>\n",
              "      <th>0</th>\n",
              "      <td>2019-03-01T08:50:13.657Z</td>\n",
              "      <td>myWork-backstock-take</td>\n",
              "      <td>1.0.20</td>\n",
              "      <td>1551430208238</td>\n",
              "      <td>94fb294e733c</td>\n",
              "      <td>Sending message AUTHENTICATE to gatekeeper..|</td>\n",
              "      <td>t2660</td>\n",
              "      <td>03-01-2019 02:50:13.512</td>\n",
              "      <td>{'hostname': 'TCTTSMYD4P', 'name': 'TCTTSMYD4P...</td>\n",
              "      <td>03-01-2019 02:50:13.512 -06|Info|Central|12488...</td>\n",
              "      <td>31205165</td>\n",
              "      <td>[storesCentralPerf, beats_input_codec_plain_ap...</td>\n",
              "    </tr>\n",
              "    <tr>\n",
              "      <th>1</th>\n",
              "      <td>2019-03-01T08:50:13.657Z</td>\n",
              "      <td>myWork-backstock-take</td>\n",
              "      <td>1.0.20</td>\n",
              "      <td>1551430208238</td>\n",
              "      <td>94fb294e733c</td>\n",
              "      <td>Service is not bound|</td>\n",
              "      <td>t2660</td>\n",
              "      <td>03-01-2019 02:50:13.512</td>\n",
              "      <td>{'name': 'TCTTSMYD4P', 'version': '5.4.1', 'ho...</td>\n",
              "      <td>03-01-2019 02:50:13.512 -06|Info|Central|12488...</td>\n",
              "      <td>31205308</td>\n",
              "      <td>[storesCentralPerf, beats_input_codec_plain_ap...</td>\n",
              "    </tr>\n",
              "    <tr>\n",
              "      <th>2</th>\n",
              "      <td>2019-03-01T08:50:13.656Z</td>\n",
              "      <td>myWork-backstock-take</td>\n",
              "      <td>1.0.20</td>\n",
              "      <td>1551430208236</td>\n",
              "      <td>94fb294e733c</td>\n",
              "      <td>Sending message AUTHENTICATE to gatekeeper..|</td>\n",
              "      <td>t2660</td>\n",
              "      <td>03-01-2019 02:50:13.512</td>\n",
              "      <td>{'hostname': 'TCTTSMYD4P', 'name': 'TCTTSMYD4P...</td>\n",
              "      <td>03-01-2019 02:50:13.512 -06|Info|Central|12488...</td>\n",
              "      <td>31203700</td>\n",
              "      <td>[storesCentralPerf, beats_input_codec_plain_ap...</td>\n",
              "    </tr>\n",
              "    <tr>\n",
              "      <th>3</th>\n",
              "      <td>2019-03-01T08:50:13.656Z</td>\n",
              "      <td>myWork-backstock-take</td>\n",
              "      <td>1.0.20</td>\n",
              "      <td>1551430208236</td>\n",
              "      <td>94fb294e733c</td>\n",
              "      <td>Service is not bound|</td>\n",
              "      <td>t2660</td>\n",
              "      <td>03-01-2019 02:50:13.512</td>\n",
              "      <td>{'version': '5.4.1', 'name': 'TCTTSMYD4P', 'ho...</td>\n",
              "      <td>03-01-2019 02:50:13.512 -06|Info|Central|12488...</td>\n",
              "      <td>31203843</td>\n",
              "      <td>[storesCentralPerf, beats_input_codec_plain_ap...</td>\n",
              "    </tr>\n",
              "    <tr>\n",
              "      <th>4</th>\n",
              "      <td>2019-03-01T08:50:13.656Z</td>\n",
              "      <td>myWork-backstock-take</td>\n",
              "      <td>1.0.20</td>\n",
              "      <td>1551430208237</td>\n",
              "      <td>94fb294e733c</td>\n",
              "      <td>java.lang.IllegalStateException: Service is no...</td>\n",
              "      <td>t2660</td>\n",
              "      <td>03-01-2019 02:50:13.512</td>\n",
              "      <td>{'name': 'TCTTSMYD4P', 'hostname': 'TCTTSMYD4P...</td>\n",
              "      <td>03-01-2019 02:50:13.512 -06|Info|Central|12488...</td>\n",
              "      <td>31204998</td>\n",
              "      <td>[storesCentralPerf, beats_input_codec_plain_ap...</td>\n",
              "    </tr>\n",
              "  </tbody>\n",
              "</table>\n",
              "</div>"
            ],
            "text/plain": [
              "                 @timestamp              acorn_app acorn_appVersion  \\\n",
              "0  2019-03-01T08:50:13.657Z  myWork-backstock-take           1.0.20   \n",
              "1  2019-03-01T08:50:13.657Z  myWork-backstock-take           1.0.20   \n",
              "2  2019-03-01T08:50:13.656Z  myWork-backstock-take           1.0.20   \n",
              "3  2019-03-01T08:50:13.656Z  myWork-backstock-take           1.0.20   \n",
              "4  2019-03-01T08:50:13.656Z  myWork-backstock-take           1.0.20   \n",
              "\n",
              "  acorn_deviceTime_orApp acorn_deviceid  \\\n",
              "0          1551430208238   94fb294e733c   \n",
              "1          1551430208238   94fb294e733c   \n",
              "2          1551430208236   94fb294e733c   \n",
              "3          1551430208236   94fb294e733c   \n",
              "4          1551430208237   94fb294e733c   \n",
              "\n",
              "                                       acorn_message acorn_store  \\\n",
              "0      Sending message AUTHENTICATE to gatekeeper..|       t2660   \n",
              "1                              Service is not bound|       t2660   \n",
              "2      Sending message AUTHENTICATE to gatekeeper..|       t2660   \n",
              "3                              Service is not bound|       t2660   \n",
              "4  java.lang.IllegalStateException: Service is no...       t2660   \n",
              "\n",
              "           acorn_timestamp                                               beat  \\\n",
              "0  03-01-2019 02:50:13.512  {'hostname': 'TCTTSMYD4P', 'name': 'TCTTSMYD4P...   \n",
              "1  03-01-2019 02:50:13.512  {'name': 'TCTTSMYD4P', 'version': '5.4.1', 'ho...   \n",
              "2  03-01-2019 02:50:13.512  {'hostname': 'TCTTSMYD4P', 'name': 'TCTTSMYD4P...   \n",
              "3  03-01-2019 02:50:13.512  {'version': '5.4.1', 'name': 'TCTTSMYD4P', 'ho...   \n",
              "4  03-01-2019 02:50:13.512  {'name': 'TCTTSMYD4P', 'hostname': 'TCTTSMYD4P...   \n",
              "\n",
              "                                             message    offset  \\\n",
              "0  03-01-2019 02:50:13.512 -06|Info|Central|12488...  31205165   \n",
              "1  03-01-2019 02:50:13.512 -06|Info|Central|12488...  31205308   \n",
              "2  03-01-2019 02:50:13.512 -06|Info|Central|12488...  31203700   \n",
              "3  03-01-2019 02:50:13.512 -06|Info|Central|12488...  31203843   \n",
              "4  03-01-2019 02:50:13.512 -06|Info|Central|12488...  31204998   \n",
              "\n",
              "                                                tags  \n",
              "0  [storesCentralPerf, beats_input_codec_plain_ap...  \n",
              "1  [storesCentralPerf, beats_input_codec_plain_ap...  \n",
              "2  [storesCentralPerf, beats_input_codec_plain_ap...  \n",
              "3  [storesCentralPerf, beats_input_codec_plain_ap...  \n",
              "4  [storesCentralPerf, beats_input_codec_plain_ap...  "
            ]
          },
          "metadata": {
            "tags": []
          },
          "execution_count": 88
        }
      ]
    },
    {
      "metadata": {
        "id": "iWQYqTOxLShp",
        "colab_type": "code",
        "colab": {}
      },
      "cell_type": "code",
      "source": [
        ""
      ],
      "execution_count": 0,
      "outputs": []
    },
    {
      "metadata": {
        "id": "tVun3pl9L2OE",
        "colab_type": "code",
        "colab": {}
      },
      "cell_type": "code",
      "source": [
        ""
      ],
      "execution_count": 0,
      "outputs": []
    }
  ]
}